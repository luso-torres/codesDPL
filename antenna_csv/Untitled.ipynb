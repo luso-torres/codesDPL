{
 "cells": [
  {
   "cell_type": "code",
   "execution_count": 3,
   "id": "c8209b99-ad29-4695-a713-751dfaf9e5a1",
   "metadata": {},
   "outputs": [],
   "source": [
    "import pandas as pd\n",
    "\n",
    "# Load the original CSV file\n",
    "df = pd.read_csv(\"original_file.csv\")\n",
    "\n",
    "# Drop the 'lambda_g [mm]' column if it exists\n",
    "if 'lambda_g [mm]' in df.columns:\n",
    "    df = df.drop(columns=['lambda_g [mm]'])\n",
    "\n",
    "# Save to a new CSV file\n",
    "df.to_csv(\"cleaned_file.csv\", index=False)\n"
   ]
  }
 ],
 "metadata": {
  "kernelspec": {
   "display_name": "Python 3 (ipykernel)",
   "language": "python",
   "name": "python3"
  },
  "language_info": {
   "codemirror_mode": {
    "name": "ipython",
    "version": 3
   },
   "file_extension": ".py",
   "mimetype": "text/x-python",
   "name": "python",
   "nbconvert_exporter": "python",
   "pygments_lexer": "ipython3",
   "version": "3.12.10"
  }
 },
 "nbformat": 4,
 "nbformat_minor": 5
}
